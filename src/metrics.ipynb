{
 "cells": [
  {
   "cell_type": "code",
   "execution_count": null,
   "metadata": {
    "collapsed": true
   },
   "outputs": [],
   "source": [
    "import glob\n",
    "import matplotlib\n",
    "import matplotlib.pyplot as plt\n",
    "# import seaborn as sns\n",
    "%matplotlib inline"
   ]
  },
  {
   "cell_type": "code",
   "execution_count": null,
   "metadata": {
    "collapsed": true
   },
   "outputs": [],
   "source": [
    "import utils\n",
    "import metrics_utils"
   ]
  },
  {
   "cell_type": "code",
   "execution_count": null,
   "metadata": {},
   "outputs": [],
   "source": [
    "matplotlib.rcParams.update({'font.size': 15})"
   ]
  },
  {
   "cell_type": "code",
   "execution_count": null,
   "metadata": {
    "collapsed": true
   },
   "outputs": [],
   "source": [
    "is_save = True\n",
    "figsize = metrics_utils.get_figsize(is_save)"
   ]
  },
  {
   "cell_type": "markdown",
   "metadata": {},
   "source": [
    "# MNIST plots"
   ]
  },
  {
   "cell_type": "markdown",
   "metadata": {},
   "source": [
    "### Recontruction from gaussian measurements"
   ]
  },
  {
   "cell_type": "code",
   "execution_count": null,
   "metadata": {},
   "outputs": [],
   "source": [
    "## Define what to plot\n",
    "criterion = ['l2', 'mean']\n",
    "retrieve_list = [['l2', 'mean'], ['l2', 'std']]\n",
    "legend_base_regexs = [\n",
    "    ('Lasso'  , '../estimated/mnist/full-input/gaussian/0.1/', '/lasso/*'),\n",
    "    ('VAE'    , '../estimated/mnist/full-input/gaussian/0.1/', '/vae/0.0_1.0_0.0_adam_0.01_0.9_False_1000_10'),\n",
    "    ('VAE+Reg', '../estimated/mnist/full-input/gaussian/0.1/', '/vae/0.0_1.0_0.1_adam_0.01_0.9_False_1000_10')\n",
    "]\n",
    "save_path = '../results/mnist_reconstr_l2.pdf'\n",
    "\n",
    "\n",
    "## Plot\n",
    "plt.figure(figsize=figsize)\n",
    "legends = []\n",
    "for legend, base, regex in legend_base_regexs:\n",
    "    metrics_utils.plot(base, regex, criterion, retrieve_list)\n",
    "    legends.append(legend)\n",
    "\n",
    "\n",
    "## Prettify\n",
    "# axis\n",
    "plt.gca().set_ylim(bottom=0)\n",
    "plt.gca().set_xscale(\"log\", nonposx='clip')\n",
    "plt.gca().set_xlim([9, 800])\n",
    "\n",
    "# labels, ticks, titles\n",
    "ticks = [10, 25, 50, 100, 200, 300, 400, 500, 750]\n",
    "labels = [10, 25, 50, 100, 200, 300, 400, 500, 750]\n",
    "plt.xticks(ticks, labels, rotation=90)\n",
    "plt.ylabel('Reconstruction error (per pixel)')\n",
    "plt.xlabel('Number of measurements')\n",
    "\n",
    "# Legends\n",
    "plt.legend(legends, fontsize=12.5)\n",
    "\n",
    "# Saving\n",
    "utils.save_plot(is_save, save_path)"
   ]
  },
  {
   "cell_type": "markdown",
   "metadata": {},
   "source": [
    "### Reconstruction : All models"
   ]
  },
  {
   "cell_type": "code",
   "execution_count": null,
   "metadata": {},
   "outputs": [],
   "source": [
    "## Define what to plot\n",
    "criterion = ['l2', 'mean']\n",
    "retrieve_list = [['l2', 'mean'], ['l2', 'std']]\n",
    "legend_base_regexs = [\n",
    "    ('Lasso'    , '../estimated/mnist/full-input/gaussian/0.1/', '/lasso/*'),\n",
    "    ('VAE'      , '../estimated/mnist/full-input/gaussian/0.1/', '/vae/0.0_1.0_0.0_adam_0.01_0.9_False_1000_10'),\n",
    "    ('VAE+Reg'  , '../estimated/mnist/full-input/gaussian/0.1/', '/vae/0.0_1.0_0.1_adam_0.01_0.9_False_1000_10'),\n",
    "    ('Fixed A'  , '../estimated/mnist/full-input/fixed/0.1/'   , '/learned/50-200'),\n",
    "    ('Learned A', '../estimated/mnist/full-input/learned/0.1/' , '/learned/50-200')\n",
    "    \n",
    "]\n",
    "save_path = '../results/mnist_reconstr_l2_all.pdf'\n",
    "\n",
    "\n",
    "## Plot\n",
    "plt.figure(figsize=figsize)\n",
    "legends = []\n",
    "for legend, base, regex in legend_base_regexs:\n",
    "    metrics_utils.plot(base, regex, criterion, retrieve_list)\n",
    "    legends.append(legend)\n",
    "\n",
    "\n",
    "## Prettify\n",
    "# axis\n",
    "plt.gca().set_ylim(bottom=0)\n",
    "plt.gca().set_xscale(\"log\", nonposx='clip')\n",
    "plt.gca().set_xlim([9, 800])\n",
    "\n",
    "# labels, ticks, titles\n",
    "ticks = [10, 25, 50, 100, 200, 300, 400, 500, 750]\n",
    "labels = [10, 25, 50, 100, 200, 300, 400, 500, 750]\n",
    "plt.xticks(ticks, labels, rotation=90)\n",
    "plt.ylabel('Reconstruction error (per pixel)')\n",
    "plt.xlabel('Number of measurements')\n",
    "\n",
    "# Legends\n",
    "plt.legend(legends, fontsize=10.0)\n",
    "\n",
    "# Saving\n",
    "utils.save_plot(is_save, save_path)"
   ]
  },
  {
   "cell_type": "markdown",
   "metadata": {},
   "source": [
    "### Sensing images from the range of the generator"
   ]
  },
  {
   "cell_type": "code",
   "execution_count": null,
   "metadata": {},
   "outputs": [],
   "source": [
    "## Define what to plot\n",
    "criterion = ['l2', 'mean']\n",
    "retrieve_list = [['l2', 'mean'], ['l2', 'std']]\n",
    "legend_base_regexs = [\n",
    "    ('From test set'  , '../estimated/mnist/full-input/gaussian/0.1/', '/vae/0.0_1.0_0.1_adam_0.01_0.9_False_1000_10'),\n",
    "    ('From generator' , '../estimated/mnist/gen-span/gaussian/0.1/'  , '/vae/0.0_1.0_0.1_adam_0.01_0.9_False_1000_10'),\n",
    "]\n",
    "save_path = '../results/mnist_gen_range.pdf'\n",
    "\n",
    "\n",
    "## Plot\n",
    "plt.figure(figsize=figsize)\n",
    "legends = []\n",
    "for legend, base, regex in legend_base_regexs:\n",
    "    metrics_utils.plot(base, regex, criterion, retrieve_list)\n",
    "    legends.append(legend)\n",
    "\n",
    "\n",
    "## Prettify\n",
    "\n",
    "# axis\n",
    "plt.gca().set_ylim(bottom=0)\n",
    "plt.gca().set_xscale(\"log\", nonposx='clip')\n",
    "plt.gca().set_xlim([9, 800])\n",
    "\n",
    "# labels, ticks, titles\n",
    "ticks = [10, 25, 50, 100, 200, 300, 400, 500, 750]\n",
    "labels = [10, 25, 50, 100, 200, 300, 400, 500, 750]\n",
    "plt.xticks(ticks, labels, rotation=90)\n",
    "plt.ylabel('Reconstruction error (per pixel)')\n",
    "plt.xlabel('Number of measurements')\n",
    "\n",
    "# Legend\n",
    "plt.legend(legends, fontsize=12.5)\n",
    "\n",
    "# Saving\n",
    "utils.save_plot(is_save, save_path)"
   ]
  },
  {
   "cell_type": "markdown",
   "metadata": {},
   "source": [
    "### Noise tolerance"
   ]
  },
  {
   "cell_type": "code",
   "execution_count": null,
   "metadata": {},
   "outputs": [],
   "source": [
    "## Define what to plot\n",
    "criterion = ['l2', 'mean']\n",
    "retrieve_list = [['l2', 'mean'], ['l2', 'std']]\n",
    "legend_base_regexs = [\n",
    "    ('Lasso, m=500' , '../estimated/mnist/full-input/gaussian/', '/500/lasso/0.1'),\n",
    "    ('VAE, m=100'   , '../estimated/mnist/full-input/gaussian/', '/100/vae/0.0_1.0_0.1_adam_0.01_0.9_False_1000_2'),\n",
    "    ('VAE, m=500'   , '../estimated/mnist/full-input/gaussian/', '/500/vae/0.0_1.0_0.1_adam_0.01_0.9_False_1000_2'),\n",
    "]\n",
    "save_path = '../results/mnist_noise_l2.pdf'\n",
    "\n",
    "\n",
    "## Plot\n",
    "plt.figure(figsize=figsize)\n",
    "legends = []\n",
    "for legend, base, regex in legend_base_regexs:\n",
    "    metrics_utils.plot(base, regex, criterion, retrieve_list)\n",
    "    legends.append(legend)\n",
    "    \n",
    "\n",
    "## Prettify\n",
    "\n",
    "# axis\n",
    "plt.gca().set_ylim(bottom=0)\n",
    "plt.gca().set_xscale(\"log\", nonposx='clip')\n",
    "\n",
    "# labels, ticks, titles\n",
    "plt.ylabel('Reconstruction error (per pixel)')\n",
    "plt.xlabel('Standard deviation of noise')\n",
    "\n",
    "# Legend\n",
    "plt.legend(legends, fontsize=12.5, loc=2)\n",
    "\n",
    "# Saving\n",
    "utils.save_plot(is_save, save_path)"
   ]
  },
  {
   "cell_type": "markdown",
   "metadata": {},
   "source": [
    "### Compare hyperparamter settings"
   ]
  },
  {
   "cell_type": "code",
   "execution_count": null,
   "metadata": {},
   "outputs": [],
   "source": [
    "## Define what to plot\n",
    "criterion = ['l2', 'mean']\n",
    "retrieve_list = [['l2', 'mean'], ['l2', 'std']]\n",
    "base, tail = '../estimated/mnist/full-input/gaussian/0.1/', '/vae/'\n",
    "other_hparams = set([a.split('/')[-1] for a in glob.glob(base + '*' + tail + '*')])\n",
    "legend_base_regexs = []\n",
    "for hparam in other_hparams:\n",
    "    legend_base_regexs.append((hparam, base, tail + hparam))\n",
    "\n",
    "## Plot\n",
    "plt.figure(figsize=figsize)\n",
    "legends = []\n",
    "for legend, base, regex in legend_base_regexs:\n",
    "    metrics_utils.plot(base, regex, criterion, retrieve_list)\n",
    "    legends.append(legend)\n",
    "\n",
    "\n",
    "## Prettify\n",
    "\n",
    "# axis\n",
    "plt.gca().set_ylim(bottom=0)\n",
    "plt.gca().set_xscale(\"log\", nonposx='clip')\n",
    "plt.gca().set_xlim([9.5, 510])\n",
    "\n",
    "# labels, ticks, titles\n",
    "ticks = [10, 25, 50, 100, 200, 300, 400, 500]\n",
    "labels = [10, 25, 50, 100, 200, 300, 400, 500]\n",
    "plt.xticks(ticks, labels, rotation=90)\n",
    "plt.ylabel('Reconstruction error (per pixel)')\n",
    "plt.xlabel('Number of measurements')\n",
    "\n",
    "# Legend\n",
    "plt.legend(legends, fontsize=8)"
   ]
  },
  {
   "cell_type": "markdown",
   "metadata": {},
   "source": [
    "# celebA plots"
   ]
  },
  {
   "cell_type": "markdown",
   "metadata": {},
   "source": [
    "### Recontruction from gaussian measurements"
   ]
  },
  {
   "cell_type": "code",
   "execution_count": null,
   "metadata": {},
   "outputs": [],
   "source": [
    "## Define what to plot\n",
    "criterion = ['l2', 'mean']\n",
    "retrieve_list = [['l2', 'mean'], ['l2', 'std']]\n",
    "legend_base_regexs = [\n",
    "    ('Lasso (DCT)'     , '../estimated/celebA/full-input/gaussian/0.01/', '/lasso-dct/*'),\n",
    "    ('Lasso (Wavelet)' , '../estimated/celebA/full-input/gaussian/0.01/', '/lasso-wavelet/1e-05'),\n",
    "    ('DCGAN'           , '../estimated/celebA/full-input/gaussian/0.01/', '/dcgan/0.0_1.0_0.0_0.0_0.0_adam_0.1_0.9_False_500_2'),\n",
    "    ('DCGAN+Reg'       , '../estimated/celebA/full-input/gaussian/0.01/', '/dcgan/0.0_1.0_0.001_0.0_0.0_adam_0.1_0.9_False_500_10'),\n",
    "]\n",
    "save_path = '../results/celebA_reconstr_l2.pdf'\n",
    "\n",
    "## Plot\n",
    "figsize=[6, 4.05]\n",
    "# figsize=[12, 8.1]\n",
    "plt.figure(figsize=figsize)\n",
    "legends = []\n",
    "for legend, base, regex in legend_base_regexs:\n",
    "    metrics_utils.plot(base, regex, criterion, retrieve_list)\n",
    "    legends.append(legend)\n",
    "    \n",
    "\n",
    "## Prettify\n",
    "# axis\n",
    "plt.gca().set_ylim(bottom=0)\n",
    "plt.gca().set_xscale(\"log\", nonposx='clip')\n",
    "plt.gca().set_xlim([19, 11000])\n",
    "\n",
    "# labels, ticks, titles\n",
    "ticks = [20, 50, 100, 200, 500, 1000, 2500, 5000, 7500, 10000]\n",
    "labels = [20, 50, 100, 200, 500, 1000, 2500, 5000, 7500, 10000]\n",
    "plt.xticks(ticks, labels, rotation=90)\n",
    "plt.xticks(ticks, labels)\n",
    "plt.ylabel('Reconstruction error (per pixel)')\n",
    "plt.xlabel('Number of measurements')\n",
    "\n",
    "# Legends\n",
    "# plt.legend(legends, fontsize=12.5)\n",
    "plt.legend(legends, fontsize=8)\n",
    "\n",
    "# Saving\n",
    "utils.save_plot(is_save, save_path)"
   ]
  },
  {
   "cell_type": "markdown",
   "metadata": {},
   "source": [
    "### Sensing images from the span of the generator"
   ]
  },
  {
   "cell_type": "code",
   "execution_count": null,
   "metadata": {},
   "outputs": [],
   "source": [
    "## Define what to plot\n",
    "criterion = ['l2', 'mean']\n",
    "retrieve_list = [['l2', 'mean'], ['l2', 'std']]\n",
    "legend_base_regexs = [\n",
    "    ('From test set' , '../estimated/celebA/full-input/gaussian/0.01/', '/dcgan/0.0_1.0_0.001_0.0_0.0_adam_0.1_0.9_False_500_10'),\n",
    "    ('From generator', '../estimated/celebA/gen-span/gaussian/0.01/'  , '/dcgan/0.0_1.0_0.001_0.0_0.0_adam_0.1_0.9_False_500_1'),\n",
    "]\n",
    "save_path = '../results/celebA_gen_range.pdf'\n",
    "\n",
    "    \n",
    "## Plot\n",
    "plt.figure(figsize=figsize)\n",
    "legends = []\n",
    "for legend, base, regex in legend_base_regexs:\n",
    "    metrics_utils.plot(base, regex, criterion, retrieve_list)\n",
    "    legends.append(legend)\n",
    "    \n",
    "\n",
    "## Prettify\n",
    "# axis\n",
    "plt.gca().set_ylim(bottom=0)\n",
    "plt.gca().set_xscale(\"log\", nonposx='clip')\n",
    "plt.gca().set_xlim([19, 2600])\n",
    "\n",
    "# labels, ticks, titles\n",
    "ticks = [20, 50, 100, 200, 500, 1000, 2500]\n",
    "labels = [20, 50, 100, 200, 500, 1000, 2500]\n",
    "plt.xticks(ticks, labels, rotation=90)\n",
    "plt.xticks(ticks, labels)\n",
    "plt.ylabel('Reconstruction error (per pixel)')\n",
    "plt.xlabel('Number of measurements')\n",
    "\n",
    "# Legends\n",
    "plt.legend(legends, fontsize=12.5)\n",
    "\n",
    "# Saving\n",
    "utils.save_plot(is_save, save_path)"
   ]
  },
  {
   "cell_type": "markdown",
   "metadata": {},
   "source": [
    "### Noise tolerance"
   ]
  },
  {
   "cell_type": "code",
   "execution_count": null,
   "metadata": {},
   "outputs": [],
   "source": [
    "## Define what to plot\n",
    "criterion = ['l2', 'mean']\n",
    "retrieve_list = [['l2', 'mean'], ['l2', 'std']]\n",
    "legend_base_regexs = [\n",
    "    ('Lasso (DCT), m=2500'     , '../estimated/celebA/full-input/gaussian/', '/2500/lasso-dct/*'),\n",
    "    ('Lasso (Wavelet), m=2500' , '../estimated/celebA/full-input/gaussian/', '/2500/lasso-wavelet/0.1'),\n",
    "    ('DCGAN, m=2500' , '../estimated/celebA/full-input/gaussian/', '/2500/dcgan/0.0_1.0_0.001_0.0_0.0_adam_0.1_0.9_False_5000_1'),\n",
    "]\n",
    "save_path = '../results/celebA_noise_l2.pdf'\n",
    "\n",
    "## Plot\n",
    "plt.figure(figsize=figsize)\n",
    "legends = []\n",
    "for legend, base, regex in legend_base_regexs:\n",
    "    metrics_utils.plot(base, regex, criterion, retrieve_list)\n",
    "    legends.append(legend) \n",
    "    \n",
    "\n",
    "## Prettify\n",
    "\n",
    "# axis\n",
    "plt.gca().set_ylim(bottom=0)\n",
    "plt.gca().set_xscale(\"log\", nonposx='clip')\n",
    "\n",
    "# labels, ticks, titles\n",
    "plt.ylabel('Reconstruction error (per pixel)')\n",
    "plt.xlabel('Standard deviation of noise')\n",
    "\n",
    "# Legend\n",
    "plt.legend(legends, fontsize=12.5, loc=2)\n",
    "\n",
    "# Saving\n",
    "utils.save_plot(is_save, save_path)"
   ]
  },
  {
   "cell_type": "markdown",
   "metadata": {},
   "source": [
    "## k-sparse-wavelet"
   ]
  },
  {
   "cell_type": "code",
   "execution_count": null,
   "metadata": {},
   "outputs": [],
   "source": [
    "## Define what to plot\n",
    "criterion = ['l2', 'mean']\n",
    "retrieve_list = [['l2', 'mean'], ['l2', 'std']]\n",
    "legend_base_regexs = [\n",
    "    ('k-sparse-wavelet, m=12288' , '../estimated/celebA/full-input/project/0.0/12288/k-sparse-wavelet/', '')\n",
    "]\n",
    "# save_path = '../results/celebA_noise_l2.pdf'\n",
    "\n",
    "## Plot\n",
    "plt.figure(figsize=[12, 8])\n",
    "legends = []\n",
    "for legend, base, regex in legend_base_regexs:\n",
    "    metrics_utils.plot(base, regex, criterion, retrieve_list)\n",
    "    legends.append(legend) \n",
    "    \n",
    "\n",
    "## Prettify\n",
    "\n",
    "# axis\n",
    "plt.gca().set_ylim(bottom=0)\n",
    "plt.gca().set_xscale(\"log\", nonposx='clip')\n",
    "plt.gca().set_xlim([40, 13000])\n",
    "\n",
    "# labels, ticks, titles\n",
    "ticks = [50, 100, 200, 500, 1000, 2500, 5000, 7500, 10000, 12288]\n",
    "labels = [50, 100, 200, 500, 1000, 2500, 5000, 7500, 10000, 12288]\n",
    "plt.xticks(ticks, labels, rotation=90)\n",
    "plt.xticks(ticks, labels)\n",
    "plt.ylabel('Reconstruction error (per pixel)')\n",
    "plt.xlabel('k')\n",
    "\n",
    "# Legend\n",
    "plt.legend(legends, fontsize=12.5, loc=1)\n",
    "\n",
    "# # Saving\n",
    "# utils.save_plot(is_save, save_path)"
   ]
  },
  {
   "cell_type": "markdown",
   "metadata": {},
   "source": [
    "### Compare hyperparameter settings"
   ]
  },
  {
   "cell_type": "code",
   "execution_count": null,
   "metadata": {},
   "outputs": [],
   "source": [
    "## Define what to plot\n",
    "criterion = ['l2', 'mean']\n",
    "retrieve_list = [['l2', 'mean'], ['l2', 'std']]\n",
    "base, tail = '../estimated/celebA/full-input/gaussian/0.01/', '/dcgan/'\n",
    "other_hparams = set([a.split('/')[-1] for a in glob.glob(base + '*' + tail + '*')])\n",
    "legend_base_regexs = []\n",
    "for hparam in other_hparams:\n",
    "    legend_base_regexs.append((hparam, base, tail + hparam))\n",
    "\n",
    "\n",
    "## Plot\n",
    "plt.figure(figsize=figsize)\n",
    "legends = []\n",
    "for legend, base, regex in legend_base_regexs:\n",
    "    metrics_utils.plot(base, regex, criterion, retrieve_list)\n",
    "    legends.append(legend)\n",
    "    \n",
    "\n",
    "## Prettify\n",
    "# axis\n",
    "plt.gca().set_ylim(bottom=0)\n",
    "plt.gca().set_xscale(\"log\", nonposx='clip')\n",
    "plt.gca().set_xlim([19, 11000])\n",
    "\n",
    "# # labels, ticks, titles\n",
    "ticks = [20, 50, 100, 200, 500, 1000, 2500, 5000, 7500, 10000]\n",
    "labels = [20, 50, 100, 200, 500, 1000, 2500, 5000, 7500, 10000]\n",
    "plt.xticks(ticks, labels, rotation=90)\n",
    "plt.xticks(ticks, labels)\n",
    "plt.ylabel('Reconstruction error (per pixel)')\n",
    "plt.xlabel('Number of measurements')\n",
    "\n",
    "# Legends\n",
    "plt.legend(legends, fontsize=8)"
   ]
  }
 ],
 "metadata": {
  "kernelspec": {
   "display_name": "Python 2",
   "language": "python",
   "name": "python2"
  },
  "language_info": {
   "codemirror_mode": {
    "name": "ipython",
    "version": 2
   },
   "file_extension": ".py",
   "mimetype": "text/x-python",
   "name": "python",
   "nbconvert_exporter": "python",
   "pygments_lexer": "ipython2",
   "version": "2.7.11"
  }
 },
 "nbformat": 4,
 "nbformat_minor": 1
}
